{
 "cells": [
  {
   "cell_type": "code",
   "execution_count": 3,
   "id": "b4a69704",
   "metadata": {},
   "outputs": [],
   "source": [
    "import random\n",
    "import numpy as np\n",
    "import torch\n",
    "import torch.nn.functional as F\n",
    "import matplotlib.pyplot as plt\n",
    "%matplotlib inline"
   ]
  },
  {
   "cell_type": "code",
   "execution_count": 4,
   "id": "11be881e",
   "metadata": {},
   "outputs": [
    {
     "name": "stdout",
     "output_type": "stream",
     "text": [
      "env: KMP_DUPLICATE_LIB_OK=TRUE # fixed my kernel dead\n"
     ]
    }
   ],
   "source": [
    "%env KMP_DUPLICATE_LIB_OK=TRUE # fixed my kernel dead"
   ]
  },
  {
   "cell_type": "markdown",
   "id": "86af5b80",
   "metadata": {},
   "source": [
    "# Data "
   ]
  },
  {
   "cell_type": "code",
   "execution_count": 5,
   "id": "8617e5d2",
   "metadata": {},
   "outputs": [],
   "source": [
    "words = open(\"names.txt\", 'r').read().split()"
   ]
  },
  {
   "cell_type": "code",
   "execution_count": 6,
   "id": "0aed457f",
   "metadata": {},
   "outputs": [
    {
     "name": "stdout",
     "output_type": "stream",
     "text": [
      "{1: 'a', 2: 'b', 3: 'c', 4: 'd', 5: 'e', 6: 'f', 7: 'g', 8: 'h', 9: 'i', 10: 'j', 11: 'k', 12: 'l', 13: 'm', 14: 'n', 15: 'o', 16: 'p', 17: 'q', 18: 'r', 19: 's', 20: 't', 21: 'u', 22: 'v', 23: 'w', 24: 'x', 25: 'y', 26: 'z', 0: '.'}\n"
     ]
    }
   ],
   "source": [
    "# characters mapping to/from integers\n",
    "chars = sorted(set(''.join(words)))\n",
    "stoi = {s:i+1 for i, s in enumerate(chars)}\n",
    "stoi['.'] = 0\n",
    "itos = {i:s for s, i in stoi.items()}\n",
    "vocab_size = len(itos)\n",
    "print(itos)"
   ]
  },
  {
   "cell_type": "code",
   "execution_count": 7,
   "id": "186e9d3f",
   "metadata": {},
   "outputs": [],
   "source": [
    "# build data set with mini batch\n",
    "random.seed(49)\n",
    "random.shuffle(words)\n",
    "\n",
    "block_size = 3 # context length: how many previous characters do we take to predict the next char?\n",
    "X, y = [], []\n",
    "\n",
    "for w in words:\n",
    "    context = [0] * block_size\n",
    "    chrs = list(w) + ['.']\n",
    "    for ch in chrs:\n",
    "        ix = stoi[ch]\n",
    "        X.append(context)\n",
    "        y.append(ix)\n",
    "        # print(  ''.join(itos[i] for i in context) + '--->' + itos[ix] )\n",
    "        context = context[1:] + [ix]\n",
    "\n",
    "X = torch.tensor(X)\n",
    "y = torch.tensor(y)\n",
    "\n",
    "n1 = int(len(X)*0.8)\n",
    "n2 = int(len(X)*0.9)\n",
    "\n",
    "X_train, y_train = X[:n1], y[:n1]\n",
    "X_val, y_val = X[n1:n2], y[n1:n2]\n",
    "X_test, y_test = X[n2:], y[n2:]"
   ]
  },
  {
   "cell_type": "code",
   "execution_count": 8,
   "id": "3ed1228e",
   "metadata": {},
   "outputs": [
    {
     "name": "stdout",
     "output_type": "stream",
     "text": [
      "torch.Size([182516, 3]) torch.Size([182516])\n",
      "torch.Size([22815, 3]) torch.Size([22815])\n",
      "torch.Size([22815, 3]) torch.Size([22815])\n"
     ]
    }
   ],
   "source": [
    "print(X_train.shape, y_train.shape)\n",
    "print(X_val.shape, y_val.shape)\n",
    "print(X_test.shape, y_test.shape)"
   ]
  },
  {
   "cell_type": "markdown",
   "id": "0a6f8e0e",
   "metadata": {},
   "source": [
    "# Batch normalization"
   ]
  },
  {
   "cell_type": "code",
   "execution_count": 24,
   "id": "11cf9705",
   "metadata": {},
   "outputs": [],
   "source": [
    "dims_embd = 10\n",
    "n_hidden = 200\n",
    "\n",
    "g = torch.Generator().manual_seed(49)\n",
    "\n",
    "C = torch.randn(vocab_size, dims_embd, generator=g)\n",
    "w1 = torch.randn((dims_embd*block_size, n_hidden), generator=g) * 1/((dims_embd*block_size)**0.5) # (5/3)\n",
    "# b1 = torch.randn(n_hidden, generator=g) * 0.01\n",
    "w2 = torch.randn((n_hidden, vocab_size), generator=g) * 0.01\n",
    "b2 = torch.randn(vocab_size, generator=g) * 0.0\n",
    "\n",
    "bn_gain = torch.ones((1, n_hidden))\n",
    "bn_bias = torch.zeros((1, n_hidden))\n",
    "\n",
    "parameters = [C, w1, w2, b2, bn_gain, bn_bias]"
   ]
  },
  {
   "cell_type": "code",
   "execution_count": 33,
   "id": "a5c26ba0",
   "metadata": {},
   "outputs": [
    {
     "name": "stdout",
     "output_type": "stream",
     "text": [
      "total parameters: 12097\n"
     ]
    }
   ],
   "source": [
    "num_params = sum(p.nelement() for p in parameters)\n",
    "print(f\"total parameters: {num_params}\")\n",
    "\n",
    "# set gradient tracking \n",
    "for p in parameters:\n",
    "    p.requires_grad = True"
   ]
  },
  {
   "cell_type": "code",
   "execution_count": 34,
   "id": "9ed4e479",
   "metadata": {},
   "outputs": [],
   "source": [
    "epochs = 20000\n",
    "batch_size = 32\n",
    "loss_i = []\n",
    "lr = 1e-1"
   ]
  },
  {
   "cell_type": "code",
   "execution_count": 35,
   "id": "8c2378f5",
   "metadata": {},
   "outputs": [],
   "source": [
    "# import cv2\n",
    "\n",
    "# def img_plot(h):\n",
    "#     fig = plt.figure(figsize=(5,3))\n",
    "#     plt.hist(h.ravel().tolist(), 60);\n",
    "#     plt.title('Batch Norm Hidden Layer')\n",
    "#     plt.grid();\n",
    "#     plt.close()   \n",
    "    \n",
    "#     return fig\n",
    "\n",
    "# def figure_to_array(fig):\n",
    "#     fig.canvas.draw()\n",
    "#     return np.array(fig.canvas.renderer._renderer)"
   ]
  },
  {
   "cell_type": "code",
   "execution_count": 36,
   "id": "5e239fc5",
   "metadata": {},
   "outputs": [
    {
     "name": "stdout",
     "output_type": "stream",
     "text": [
      "0/20000: 3.0939\n",
      "1000/20000: 2.4740\n",
      "2000/20000: 2.7650\n",
      "3000/20000: 2.1758\n",
      "4000/20000: 2.4293\n",
      "5000/20000: 2.2167\n",
      "6000/20000: 2.3040\n",
      "7000/20000: 2.1487\n",
      "8000/20000: 2.2263\n",
      "9000/20000: 2.3183\n",
      "10000/20000: 2.2739\n",
      "11000/20000: 2.4690\n",
      "12000/20000: 2.5434\n",
      "13000/20000: 1.7586\n",
      "14000/20000: 2.0080\n",
      "15000/20000: 2.2183\n",
      "16000/20000: 1.7972\n",
      "17000/20000: 2.4789\n",
      "18000/20000: 2.4408\n",
      "19000/20000: 2.1917\n",
      "20000/20000: 2.0725\n"
     ]
    }
   ],
   "source": [
    "for i in range(epochs+1):\n",
    "    # mini-batch\n",
    "    ix = torch.randint(0, X_train.shape[0], (batch_size, ))\n",
    "\n",
    "    # forward pass -----------------------------------------------------\n",
    "    emb = C[X_train[ix]]\n",
    "    embcat = emb.view(-1, dims_embd*block_size)\n",
    "    h_pre_act = embcat @ w1 + b1\n",
    "    \n",
    "    # add batch norm layer -------------------------------------------\n",
    "    bn_mean = h_pre_act.mean(axis=0, keepdims=True)\n",
    "    bn_var = h_pre_act.var(axis=0, keepdims=True)\n",
    "    epsilon = torch.full(bn_var.shape, 1e-5)\n",
    "    h_pre_act = bn_gain * (h_pre_act - bn_mean) / torch.sqrt(bn_var + epsilon) + bn_bias\n",
    "    \n",
    "    # real-time plot hidden pre act shift by batch norm\n",
    "#     width, height = 320, 320\n",
    "#     fig = img_plot(h_pre_act)\n",
    "#     fig_arr = figure_to_array(fig)\n",
    "#     fig_arr = cv2.resize(fig_arr, (width, height))\n",
    "#     fig_arr_bgr = cv2.cvtColor(fig_arr, cv2.COLOR_RGBA2BGR)\n",
    "#     cv2.imshow('Hidden Pre Activation', fig_arr_bgr)\n",
    "    \n",
    "    # non-linearity -----------------------------------------------------\n",
    "    h = torch.tanh(h_pre_act)\n",
    "    logits = h @ w2 + b2\n",
    "    loss = F.cross_entropy(logits, y_train[ix])\n",
    "\n",
    "    #backward pass --------------------------------------------------\n",
    "    for p in parameters:\n",
    "        p.grad = None # set zero grad\n",
    "\n",
    "    loss.backward() # backward \n",
    "    \n",
    "    if i >= 10000: lr = 1e-2 # learning late decay\n",
    "    for p in parameters:\n",
    "        p.data += -lr * p.grad # update step\n",
    "        \n",
    "    # track stats\n",
    "    loss_i.append(loss.item())\n",
    "    \n",
    "    if i % 1000 == 0:\n",
    "        print(f'{i}/{epochs}: {loss.item():.4f}') \n",
    "    \n",
    "#     if cv2.waitKey(10) & 0xff == ord('q'):\n",
    "#                 break\n",
    "# cv2.destroyAllWindows()"
   ]
  },
  {
   "cell_type": "code",
   "execution_count": 37,
   "id": "07ca30f8",
   "metadata": {},
   "outputs": [
    {
     "data": {
      "image/png": "[encoded data removed]",
      "text/plain": [
       "<Figure size 500x300 with 1 Axes>"
      ]
     },
     "metadata": {},
     "output_type": "display_data"
    }
   ],
   "source": [
    "plt.figure(figsize=(5,3))\n",
    "plt.hist(h_pre_act.ravel().tolist(), 60);\n",
    "plt.title('Hidden before tanh')\n",
    "plt.grid();"
   ]
  },
  {
   "cell_type": "code",
   "execution_count": 38,
   "id": "c6e90b75",
   "metadata": {},
   "outputs": [
    {
     "data": {
      "image/png": "[encoded data removed]",
      "text/plain": [
       "<Figure size 500x300 with 1 Axes>"
      ]
     },
     "metadata": {},
     "output_type": "display_data"
    }
   ],
   "source": [
    "plt.figure(figsize=(5,3))\n",
    "plt.hist(h.ravel().tolist(), 60);\n",
    "plt.title('Hidden after tanh')\n",
    "plt.grid();"
   ]
  },
  {
   "cell_type": "code",
   "execution_count": 39,
   "id": "46f7fac3",
   "metadata": {},
   "outputs": [
    {
     "data": {
      "image/png": "[encoded data removed]",
      "text/plain": [
       "<Figure size 500x300 with 1 Axes>"
      ]
     },
     "metadata": {},
     "output_type": "display_data"
    }
   ],
   "source": [
    "plt.figure(figsize=(5,3))\n",
    "plt.plot(loss_i)\n",
    "plt.legend(['loss'])\n",
    "plt.grid();"
   ]
  },
  {
   "cell_type": "code",
   "execution_count": 40,
   "id": "f1420485",
   "metadata": {},
   "outputs": [],
   "source": [
    "# Calibrate batch norm at the end of training\n",
    "with torch.inference_mode():\n",
    "    emb = C[X_train]\n",
    "    h_pre_act = emb.view(-1, dims_embd*block_size) @ w1\n",
    "    # batch mean/var over the entire training set\n",
    "    bn_mean = h_pre_act.mean(axis=0, keepdims=True)\n",
    "    bn_var = h_pre_act.var(axis=0, keepdims=True)"
   ]
  },
  {
   "cell_type": "code",
   "execution_count": 41,
   "id": "cc7d4184",
   "metadata": {},
   "outputs": [
    {
     "data": {
      "text/plain": [
       "tensor(2.1898)"
      ]
     },
     "execution_count": 41,
     "metadata": {},
     "output_type": "execute_result"
    }
   ],
   "source": [
    "# Validation\n",
    "with torch.inference_mode():\n",
    "    emb = C[X_val]\n",
    "    h_pre_act = emb.view(-1, dims_embd*block_size) @ w1\n",
    "    \n",
    "    epsilon = torch.full(bn_var.shape, 1e-5)\n",
    "    h_pre_act = bn_gain * (h_pre_act - bn_mean) / torch.sqrt(bn_var + epsilon) + bn_bias\n",
    "    \n",
    "    h = torch.tanh(h_pre_act)\n",
    "    logits = h @ w2 + b2\n",
    "    loss = F.cross_entropy(logits, y_val)\n",
    "loss"
   ]
  },
  {
   "cell_type": "code",
   "execution_count": null,
   "id": "f7e4ab0f",
   "metadata": {},
   "outputs": [],
   "source": []
  }
 ],
 "metadata": {
  "kernelspec": {
   "display_name": "Python 3 (ipykernel)",
   "language": "python",
   "name": "python3"
  },
  "language_info": {
   "codemirror_mode": {
    "name": "ipython",
    "version": 3
   },
   "file_extension": ".py",
   "mimetype": "text/x-python",
   "name": "python",
   "nbconvert_exporter": "python",
   "pygments_lexer": "ipython3",
   "version": "3.10.9"
  }
 },
 "nbformat": 4,
 "nbformat_minor": 5
}
