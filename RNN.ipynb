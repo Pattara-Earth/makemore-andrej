{
 "cells": [
  {
   "cell_type": "code",
   "execution_count": 524,
   "id": "4dfbcf33",
   "metadata": {},
   "outputs": [],
   "source": [
    "import requests\n",
    "import torch\n",
    "from tqdm import tqdm_notebook\n",
    "import matplotlib.pyplot as plt\n",
    "%matplotlib inline"
   ]
  },
  {
   "cell_type": "code",
   "execution_count": 300,
   "id": "e1727537",
   "metadata": {},
   "outputs": [],
   "source": [
    "r = requests.get('https://raw.githubusercontent.com/karpathy/char-rnn/master/data/tinyshakespeare/input.txt')\n",
    "data = r.content.decode(\"utf-8\")"
   ]
  },
  {
   "cell_type": "code",
   "execution_count": 539,
   "id": "19df1baf",
   "metadata": {},
   "outputs": [
    {
     "name": "stdout",
     "output_type": "stream",
     "text": [
      "First Citizen:\n",
      "Before we proceed any further, hear me speak.\n",
      "\n",
      "All:\n",
      "Speak, speak.\n",
      "\n",
      "First Citizen:\n",
      "You are all resolved rather to die than to famish?\n",
      "\n",
      "All:\n",
      "Resolved. resolved.\n",
      "\n",
      "First Citizen:\n",
      "First, you know Caius Marcius is chief enemy to the people.\n",
      "\n",
      "All:\n",
      "We know't, we know't.\n",
      "\n",
      "First Citizen:\n",
      "Let us kill him, and we'll have corn at our own price.\n",
      "Is't a verdict?\n",
      "\n",
      "All:\n",
      "No more talking on't; let it be done: away, away!\n",
      "\n",
      "Second Citizen:\n",
      "One word, good citizens.\n",
      "\n",
      "First Citizen:\n",
      "We are accounted poor citizens, the patricians good.\n",
      "What authority surfeits on would relieve us: if they\n",
      "would yield us but the superfluity, while it were\n",
      "wholesome, we might guess they relieved us humanely;\n",
      "but they think we are too dear: the leanness that\n",
      "afflicts us, the object of our misery, is as an\n",
      "inventory to particularise their abundance; our\n",
      "sufferance is a gain to them Let us revenge this with\n",
      "our pikes, ere we become rakes: for the gods know I\n",
      "speak this in hunger for bread, not in thirst for revenge.\n",
      "\n",
      "\n"
     ]
    }
   ],
   "source": [
    "data = data[:1000]\n",
    "print(data[:1000])"
   ]
  },
  {
   "cell_type": "code",
   "execution_count": 540,
   "id": "05abc240",
   "metadata": {},
   "outputs": [
    {
     "name": "stdout",
     "output_type": "stream",
     "text": [
      "{0: '\\n', 1: ' ', 2: '!', 3: \"'\", 4: ',', 5: '.', 6: ':', 7: ';', 8: '?', 9: 'A', 10: 'B', 11: 'C', 12: 'F', 13: 'I', 14: 'L', 15: 'M', 16: 'N', 17: 'O', 18: 'R', 19: 'S', 20: 'W', 21: 'Y', 22: 'a', 23: 'b', 24: 'c', 25: 'd', 26: 'e', 27: 'f', 28: 'g', 29: 'h', 30: 'i', 31: 'j', 32: 'k', 33: 'l', 34: 'm', 35: 'n', 36: 'o', 37: 'p', 38: 'r', 39: 's', 40: 't', 41: 'u', 42: 'v', 43: 'w', 44: 'y', 45: 'z'}\n",
      "vocab size: 46\n"
     ]
    }
   ],
   "source": [
    "chars = sorted(set(''.join(data)))\n",
    "stoi = {s:i for i, s in enumerate(chars)}\n",
    "itos = {i:s for s, i in stoi.items()}\n",
    "\n",
    "vocab_size = len(stoi)\n",
    "\n",
    "print(itos)\n",
    "print(f'vocab size: {vocab_size}')"
   ]
  },
  {
   "cell_type": "code",
   "execution_count": 541,
   "id": "dfbc9296",
   "metadata": {},
   "outputs": [],
   "source": [
    "def build_dataset():\n",
    "    X = [stoi[ch] for ch in data[:len(data)-1]]\n",
    "    y = [stoi[ch] for ch in data[1:len(data)]]\n",
    "    return X, y"
   ]
  },
  {
   "cell_type": "code",
   "execution_count": 542,
   "id": "72dc1f4a",
   "metadata": {},
   "outputs": [],
   "source": [
    "def one_hot_encode(X):\n",
    "    onehotx = torch.zeros((len(X), vocab_size))\n",
    "    rows = torch.arange(len(X))\n",
    "    onehotx[rows, X] = 1\n",
    "    return onehotx"
   ]
  },
  {
   "cell_type": "code",
   "execution_count": 573,
   "id": "bcaab695",
   "metadata": {},
   "outputs": [],
   "source": [
    "seq_length = 25\n",
    "hidden_size = 256\n",
    "lr = 1e-3\n",
    "epochs = 1000"
   ]
  },
  {
   "cell_type": "code",
   "execution_count": 574,
   "id": "935a36c8",
   "metadata": {},
   "outputs": [],
   "source": [
    "X, y = build_dataset()"
   ]
  },
  {
   "cell_type": "code",
   "execution_count": 575,
   "id": "81c068db",
   "metadata": {},
   "outputs": [],
   "source": [
    "Wxh = torch.randn(hidden_size, vocab_size)\n",
    "Whh = torch.randn(hidden_size, hidden_size)\n",
    "Why = torch.randn(vocab_size, hidden_size)\n",
    "bh = torch.zeros(hidden_size, 1)\n",
    "by = torch.zeros(vocab_size, 1)\n",
    "\n",
    "parameters = [Wxh, Whh, Why, bh, by]\n",
    "for param in parameters:\n",
    "    param.requires_grad = True"
   ]
  },
  {
   "cell_type": "code",
   "execution_count": 592,
   "id": "b4b09833",
   "metadata": {},
   "outputs": [],
   "source": [
    "lr = 1e-3"
   ]
  },
  {
   "cell_type": "code",
   "execution_count": 596,
   "id": "16e6daa9",
   "metadata": {},
   "outputs": [
    {
     "name": "stderr",
     "output_type": "stream",
     "text": [
      "/var/folders/vw/_0cvc3td0mvb1vx0gn2n5hw00000gn/T/ipykernel_4309/3793199997.py:2: TqdmDeprecationWarning: This function will be removed in tqdm==5.0.0\n",
      "Please use `tqdm.notebook.tqdm` instead of `tqdm.tqdm_notebook`\n",
      "  for epoch in tqdm_notebook(range(epochs)):\n"
     ]
    },
    {
     "data": {
      "application/vnd.jupyter.widget-view+json": {
       "model_id": "05a04993157142d69d6f65bf50830ee7",
       "version_major": 2,
       "version_minor": 0
      },
      "text/plain": [
       "  0%|          | 0/1000 [00:00<?, ?it/s]"
      ]
     },
     "metadata": {},
     "output_type": "display_data"
    },
    {
     "name": "stdout",
     "output_type": "stream",
     "text": [
      "Epoch: 0 | Loss: 74.9548\n",
      "Epoch: 100 | Loss: 74.5317\n",
      "Epoch: 200 | Loss: 74.2170\n",
      "Epoch: 300 | Loss: 74.0321\n",
      "Epoch: 400 | Loss: 73.9146\n",
      "Epoch: 500 | Loss: 73.8340\n",
      "Epoch: 600 | Loss: 73.7741\n",
      "Epoch: 700 | Loss: 73.7261\n",
      "Epoch: 800 | Loss: 73.6854\n",
      "Epoch: 900 | Loss: 73.6500\n"
     ]
    }
   ],
   "source": [
    "loss_epochs = []\n",
    "for epoch in tqdm_notebook(range(epochs)):\n",
    "    loss_i = []\n",
    "    for i in range(len(X)):\n",
    "        # forward pass\n",
    "        loss = 0\n",
    "        pi = i * seq_length\n",
    "        xs, ys = X[pi:pi+seq_length], y[pi:pi+seq_length]\n",
    "        xs = one_hot_encode(xs)\n",
    "        hprev = torch.zeros(hidden_size, 1)\n",
    "        if xs.nelement() == 0:\n",
    "            break\n",
    "        for xi, yi in zip(xs, ys):\n",
    "            xi = xi.reshape(-1, 1)\n",
    "            hprev = torch.tanh(Whh @ hprev + Wxh @ xi + bh)\n",
    "            out = Why @ hprev + by\n",
    "\n",
    "            z = out.exp()\n",
    "            probs = z / z.sum()\n",
    "            loss += -probs[yi].log()\n",
    "\n",
    "        loss_i.append(loss.item())\n",
    "\n",
    "        #backward pass\n",
    "        for param in parameters:\n",
    "            param.grad = None \n",
    "\n",
    "        loss.backward()\n",
    "\n",
    "        # update step\n",
    "        for param in parameters:\n",
    "            param.data += -lr * param.grad\n",
    "    loss_epoch = sum(loss_i) / len(loss_i)\n",
    "    loss_epochs.append(loss_epoch)\n",
    "    if epoch % 100 == 0:\n",
    "        print(f'Epoch: {epoch} | Loss: {loss_epoch:.4f}')"
   ]
  },
  {
   "cell_type": "code",
   "execution_count": 599,
   "id": "7609a620",
   "metadata": {},
   "outputs": [
    {
     "name": "stdout",
     "output_type": "stream",
     "text": [
      "m r mee .rvoneeoihiegIrnsSien\n",
      "etnrmrrnraurtar hr h,v oeFiuvsbe worpninbb etdukeuindbAeee n gr re tOortht Ss e,olftsn erybrf dngnds\n",
      "ar mw abanui lrlit ogYrfgojm.twoevogta dhbnergin  elrFi\n",
      "rthitW Csecw its te o . eIarn\n",
      "eat loirsdk  ir oateea.sv ,nFirr nkehyrieor  o,npownterawn\n",
      "oo\n",
      "bt  dgsho\n",
      "  bkehafghues\n",
      "ntrwnrrhrrfhherorhieibrate ?fe,ieuw.soe e n?shs rsntnlrdSoee Fiefh\n",
      "ve:  :rhosinib litiersah o imntiar  oa r:ihoa hri. trno  yn\n",
      "tomt\n",
      "sFi esnes\n",
      "hc rrtm\n",
      "arruauithv?\n",
      "me diei  euked anihho\n",
      "e\n",
      "isegC?:o ro"
     ]
    }
   ],
   "source": [
    "# sample\n",
    "n = 500\n",
    "with torch.inference_mode():\n",
    "    hprev = torch.zeros(hidden_size, 1)\n",
    "    xi = torch.zeros(vocab_size, 1)\n",
    "    \n",
    "    for i in range(n):\n",
    "        hprev = torch.tanh(Whh @ hprev + Wxh @ xi + bh)\n",
    "        out = Why @ hprev + by\n",
    "        z = out.exp()\n",
    "        probs = z / z.sum()    \n",
    "\n",
    "        ix = torch.multinomial(probs.reshape(1,-1), 1, replacement=True)\n",
    "\n",
    "        xi = torch.zeros(vocab_size, 1)\n",
    "        xi[ix] = 1\n",
    "        print(itos[ix.item()], end='')"
   ]
  },
  {
   "cell_type": "code",
   "execution_count": 469,
   "id": "bfe537d5",
   "metadata": {},
   "outputs": [],
   "source": []
  },
  {
   "cell_type": "code",
   "execution_count": null,
   "id": "3acb49b7",
   "metadata": {},
   "outputs": [],
   "source": []
  }
 ],
 "metadata": {
  "kernelspec": {
   "display_name": "Python 3 (ipykernel)",
   "language": "python",
   "name": "python3"
  },
  "language_info": {
   "codemirror_mode": {
    "name": "ipython",
    "version": 3
   },
   "file_extension": ".py",
   "mimetype": "text/x-python",
   "name": "python",
   "nbconvert_exporter": "python",
   "pygments_lexer": "ipython3",
   "version": "3.11.3"
  }
 },
 "nbformat": 4,
 "nbformat_minor": 5
}
