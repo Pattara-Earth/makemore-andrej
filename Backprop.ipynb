{
 "cells": [
  {
   "cell_type": "code",
   "execution_count": 64,
   "id": "286560df",
   "metadata": {},
   "outputs": [],
   "source": [
    "import requests\n",
    "import random\n",
    "import torch\n",
    "import torch.nn.functional as F\n",
    "import matplotlib.pyplot as plt\n",
    "%matplotlib inline"
   ]
  },
  {
   "cell_type": "markdown",
   "id": "98d724bb",
   "metadata": {},
   "source": [
    "# Tiny Shakespeare"
   ]
  },
  {
   "cell_type": "code",
   "execution_count": 4,
   "id": "e5c0019f",
   "metadata": {},
   "outputs": [],
   "source": [
    "r = requests.get('https://raw.githubusercontent.com/karpathy/char-rnn/master/data/tinyshakespeare/input.txt')\n",
    "text = r.content.decode(\"utf-8\")"
   ]
  },
  {
   "cell_type": "code",
   "execution_count": 7,
   "id": "9b2b80e9",
   "metadata": {},
   "outputs": [
    {
     "name": "stdout",
     "output_type": "stream",
     "text": [
      "length of dataset in characters: 1115394\n"
     ]
    }
   ],
   "source": [
    "print(f'length of dataset in characters: {len(text)}')"
   ]
  },
  {
   "cell_type": "code",
   "execution_count": 6,
   "id": "aecace0c",
   "metadata": {},
   "outputs": [
    {
     "name": "stdout",
     "output_type": "stream",
     "text": [
      "First Citizen:\n",
      "Before we proceed any further, hear me speak.\n",
      "\n",
      "All:\n",
      "Speak, speak.\n",
      "\n",
      "First Citizen:\n",
      "You are all resolved rather to die than to famish?\n",
      "\n",
      "All:\n",
      "Resolved. resolved.\n",
      "\n",
      "First Citizen:\n",
      "First, you know Caius Marcius is chief enemy to the people.\n",
      "\n",
      "All:\n",
      "We know't, we know't.\n",
      "\n",
      "First Citizen:\n",
      "Let us kill him, and we'll have corn at our own price.\n",
      "Is't a verdict?\n",
      "\n",
      "All:\n",
      "No more talking on't; let it be done: away, away!\n",
      "\n",
      "Second Citizen:\n",
      "One word, good citizens.\n",
      "\n",
      "First Citizen:\n",
      "We are accounted poor citizens, the patricians good.\n",
      "What authority surfeits on would relieve us: if they\n",
      "would yield us but the superfluity, while it were\n",
      "wholesome, we might guess they relieved us humanely;\n",
      "but they think we are too dear: the leanness that\n",
      "afflicts us, the object of our misery, is as an\n",
      "inventory to particularise their abundance; our\n",
      "sufferance is a gain to them Let us revenge this with\n",
      "our pikes, ere we become rakes: for the gods know I\n",
      "speak this in hunger for bread, not in thirst for revenge.\n",
      "\n",
      "\n"
     ]
    }
   ],
   "source": [
    "print(text[:1000])"
   ]
  },
  {
   "cell_type": "code",
   "execution_count": 26,
   "id": "17b0bb10",
   "metadata": {},
   "outputs": [
    {
     "name": "stdout",
     "output_type": "stream",
     "text": [
      "\n",
      " !$&',-.3:;?ABCDEFGHIJKLMNOPQRSTUVWXYZabcdefghijklmnopqrstuvwxyz\n",
      "Num of char: 65\n"
     ]
    }
   ],
   "source": [
    "chars = sorted(set(''.join(text)))\n",
    "stoi = {s: i for i, s in enumerate(char)}\n",
    "itos = {i: s for i, s in enumerate(char)}\n",
    "\n",
    "print(''.join(chars))\n",
    "print(f'Num of char: {len(chars)}')"
   ]
  },
  {
   "cell_type": "code",
   "execution_count": 32,
   "id": "e394cfd9",
   "metadata": {},
   "outputs": [
    {
     "name": "stdout",
     "output_type": "stream",
     "text": [
      "[28, 39, 58, 58, 39, 56, 39]\n",
      "Pattara\n"
     ]
    }
   ],
   "source": [
    "encode = lambda s: [stoi[c] for c in s]\n",
    "decode = lambda l: ''.join([itos[i] for i in l])\n",
    "\n",
    "print(encode(\"Pattara\"))\n",
    "print(decode(encode(\"Pattara\")))"
   ]
  },
  {
   "cell_type": "code",
   "execution_count": 37,
   "id": "711f507f",
   "metadata": {},
   "outputs": [
    {
     "name": "stdout",
     "output_type": "stream",
     "text": [
      "torch.Size([1115394]) torch.LongTensor\n"
     ]
    }
   ],
   "source": [
    "data = torch.tensor(encode(text), dtype=torch.long)\n",
    "print(data.shape, data.type())"
   ]
  },
  {
   "cell_type": "code",
   "execution_count": 39,
   "id": "ac684523",
   "metadata": {},
   "outputs": [],
   "source": [
    "n = int(0.9*len(data))\n",
    "train = data[:n]\n",
    "test = data[n:]"
   ]
  },
  {
   "cell_type": "markdown",
   "id": "09de2ab0",
   "metadata": {},
   "source": [
    "# Name "
   ]
  },
  {
   "cell_type": "code",
   "execution_count": 47,
   "id": "1352b467",
   "metadata": {},
   "outputs": [
    {
     "name": "stdout",
     "output_type": "stream",
     "text": [
      "n names: 32033\n"
     ]
    }
   ],
   "source": [
    "names = open('names.txt', 'r').read().split()\n",
    "print(f'n names: {len(names)}')"
   ]
  },
  {
   "cell_type": "code",
   "execution_count": 59,
   "id": "00733046",
   "metadata": {},
   "outputs": [
    {
     "name": "stdout",
     "output_type": "stream",
     "text": [
      "{1: 'a', 2: 'b', 3: 'c', 4: 'd', 5: 'e', 6: 'f', 7: 'g', 8: 'h', 9: 'i', 10: 'j', 11: 'k', 12: 'l', 13: 'm', 14: 'n', 15: 'o', 16: 'p', 17: 'q', 18: 'r', 19: 's', 20: 't', 21: 'u', 22: 'v', 23: 'w', 24: 'x', 25: 'y', 26: 'z', 0: '.'}\n",
      "vocab size: 27\n"
     ]
    }
   ],
   "source": [
    "chars = sorted(set(''.join(names)))\n",
    "stoi = {s:i+1 for i, s in enumerate(chars)}\n",
    "stoi['.'] = 0\n",
    "itos = {i:s for s, i in stoi.items()}\n",
    "\n",
    "vocab_size = len(stoi)\n",
    "\n",
    "print(itos)\n",
    "print(f'vocab size: {vocab_size}')"
   ]
  },
  {
   "cell_type": "code",
   "execution_count": 173,
   "id": "e8d28251",
   "metadata": {},
   "outputs": [],
   "source": [
    "block_size = 3\n",
    "batch_size = 32"
   ]
  },
  {
   "cell_type": "code",
   "execution_count": 233,
   "id": "455879b1",
   "metadata": {},
   "outputs": [],
   "source": [
    "def build_dataset(names):\n",
    "    X, y = [], []\n",
    "    for n in names:\n",
    "        context = [0] * block_size \n",
    "        for ch in n + '.':\n",
    "            ix = stoi[ch]\n",
    "            X.append(context)\n",
    "            y.append(ix)\n",
    "            context = context[1:] + [ix]\n",
    "    return X, y"
   ]
  },
  {
   "cell_type": "code",
   "execution_count": 234,
   "id": "4f850e8f",
   "metadata": {},
   "outputs": [
    {
     "name": "stdout",
     "output_type": "stream",
     "text": [
      "... ---> j\n",
      "..j ---> a\n",
      ".ja ---> m\n",
      "jam ---> e\n",
      "ame ---> s\n",
      "mes ---> e\n",
      "ese ---> .\n",
      "... ---> k\n",
      "..k ---> e\n",
      ".ke ---> i\n",
      "kei ---> s\n",
      "eis ---> y\n",
      "isy ---> .\n",
      "... ---> m\n",
      "..m ---> e\n",
      ".me ---> a\n",
      "mea ---> d\n",
      "ead ---> o\n",
      "ado ---> w\n",
      "dow ---> .\n",
      "... ---> t\n",
      "..t ---> a\n",
      ".ta ---> e\n",
      "tae ---> l\n",
      "ael ---> y\n",
      "ely ---> n\n",
      "lyn ---> .\n"
     ]
    },
    {
     "data": {
      "text/plain": [
       "(torch.Size([228146, 3]), torch.Size([228146]), torch.int64, torch.int64)"
      ]
     },
     "execution_count": 234,
     "metadata": {},
     "output_type": "execute_result"
    }
   ],
   "source": [
    "X, y = build_dataset(names)\n",
    "\n",
    "for c, j in zip(X[:27], y[:27]):\n",
    "    print(''.join(itos[i] for i in c), '--->', itos[j])\n",
    "    \n",
    "X, y = torch.tensor(X), torch.tensor(y)\n",
    "X.shape, y.shape, X.dtype, y.dtype"
   ]
  },
  {
   "cell_type": "code",
   "execution_count": 235,
   "id": "9589ccd6",
   "metadata": {},
   "outputs": [],
   "source": [
    "# X, y = X[:32], y[:32]"
   ]
  },
  {
   "cell_type": "code",
   "execution_count": 396,
   "id": "acf24182",
   "metadata": {},
   "outputs": [],
   "source": [
    "n_embd = 10\n",
    "hidden = 100\n",
    "epochs = 10000\n",
    "lr = 1e-2\n",
    "n = batch_size"
   ]
  },
  {
   "cell_type": "code",
   "execution_count": 397,
   "id": "462f941a",
   "metadata": {},
   "outputs": [
    {
     "name": "stdout",
     "output_type": "stream",
     "text": [
      "Number of params:  6097\n"
     ]
    }
   ],
   "source": [
    "C = torch.randn((vocab_size, n_embd))\n",
    "W1 = torch.randn((n_embd * block_size, hidden)) * 0.1\n",
    "b1 = torch.randn(hidden) * 0.1\n",
    "W2 = torch.randn((hidden, vocab_size)) * 0.1\n",
    "b2 = torch.randn(vocab_size) * 0.1\n",
    "\n",
    "parameters = [C, W1, b1, W2, b2]\n",
    "print(\"Number of params: \", sum(p.nelement() for p in parameters))\n",
    "\n",
    "# set require grad\n",
    "for p in parameters:\n",
    "    p.requires_grad = True"
   ]
  },
  {
   "cell_type": "code",
   "execution_count": 398,
   "id": "4902a739",
   "metadata": {},
   "outputs": [
    {
     "name": "stdout",
     "output_type": "stream",
     "text": [
      "Epoch: 0 | loss: 3.6439\n",
      "Epoch: 1000 | loss: 2.7153\n",
      "Epoch: 2000 | loss: 2.6550\n",
      "Epoch: 3000 | loss: 2.4809\n",
      "Epoch: 4000 | loss: 2.4776\n",
      "Epoch: 5000 | loss: 2.5530\n",
      "Epoch: 6000 | loss: 2.2666\n",
      "Epoch: 7000 | loss: 2.5536\n",
      "Epoch: 8000 | loss: 2.4817\n",
      "Epoch: 9000 | loss: 2.4477\n",
      "Epoch: 10000 | loss: 2.4612\n"
     ]
    }
   ],
   "source": [
    "for epoch in range(epochs+1):\n",
    "    # mini batch\n",
    "    ix = torch.randint(0, X.shape[0], (batch_size, ))\n",
    "    \n",
    "    # forward pass\n",
    "    emb = C[X[ix]].view(-1, n_embd * block_size) # reduction from vocab_size dim to n_embd dim\n",
    "    h = emb @ W1 + b1 \n",
    "    logits = h @ W2 + b2\n",
    "\n",
    "    # softmax\n",
    "    # exps = logits.exp()\n",
    "    # probs = exps / exps.sum(1, keepdims=True)\n",
    "    # loss = -probs[torch.arange(n), y].log().mean()\n",
    "    loss = F.cross_entropy(logits, y[ix])\n",
    "    if epoch % 1000 == 0:\n",
    "        print(f'Epoch: {epoch} | loss: {loss:.4f}')\n",
    "\n",
    "    # backward pass\n",
    "    for p in parameters: # set zero grad\n",
    "        p.grad = None\n",
    "    loss.backward() # call backward\n",
    "    for p in parameters: # update\n",
    "        p.data += -lr * p.grad"
   ]
  },
  {
   "cell_type": "code",
   "execution_count": 399,
   "id": "d4829513",
   "metadata": {},
   "outputs": [
    {
     "data": {
      "text/plain": [
       "tensor(2.4187, grad_fn=<NllLossBackward0>)"
      ]
     },
     "execution_count": 399,
     "metadata": {},
     "output_type": "execute_result"
    }
   ],
   "source": [
    "emb = C[X].view(-1, n_embd * block_size) # reduction from vocab_size dim to n_embd dim\n",
    "h = emb @ W1 + b1 \n",
    "logits = h @ W2 + b2\n",
    "loss = F.cross_entropy(logits, y)\n",
    "loss"
   ]
  },
  {
   "cell_type": "markdown",
   "id": "3a9e4dc7",
   "metadata": {},
   "source": [
    "# Backprop"
   ]
  },
  {
   "cell_type": "code",
   "execution_count": 528,
   "id": "b938899b",
   "metadata": {},
   "outputs": [
    {
     "name": "stdout",
     "output_type": "stream",
     "text": [
      "Loss: 2.1437\n"
     ]
    }
   ],
   "source": [
    "# Forward pass\n",
    "ix = torch.randint(0, X.shape[0], (batch_size, ))\n",
    "Xb, yb = X[ix], y[ix]\n",
    "\n",
    "# embed vocab size to n_embd\n",
    "emb = C[Xb]\n",
    "embcat = emb.view(emb.shape[0], -1)\n",
    "\n",
    "h = embcat @ W1 + b1\n",
    "logits = h @ W2 + b2\n",
    "\n",
    "# cross entropy loss\n",
    "# norm logits\n",
    "logit_maxes = logits.max(1, keepdims=True).values\n",
    "norm_logits = logits - logit_maxes\n",
    "# softmax\n",
    "exps = norm_logits.exp()\n",
    "sum_exps = exps.sum(1, keepdims=True)\n",
    "sum_exps_inv = sum_exps**-1\n",
    "probs = exps * sum_exps_inv\n",
    "logprobs = probs.log()\n",
    "loss = -logprobs[torch.arange(n), yb].mean()\n",
    "\n",
    "for p in parameters:\n",
    "    p.grad = None\n",
    "for t in [logprobs, probs, exps, sum_exps, sum_exps_inv, norm_logits, logit_maxes, logits, h, embcat, emb]:\n",
    "    t.retain_grad()\n",
    "loss.backward()\n",
    "\n",
    "print(f'Loss: {loss:.4f}')"
   ]
  },
  {
   "cell_type": "code",
   "execution_count": 614,
   "id": "e28b3a2d",
   "metadata": {},
   "outputs": [],
   "source": [
    "# Backward pass\n",
    "dlogprobs = torch.zeros_like(logprobs)\n",
    "dlogprobs[torch.arange(n), yb] = 1 * -1.0/n\n",
    "dprobs = dlogprobs * (1.0 / probs)\n",
    "dexps = (torch.ones_like(exps) * sum_exps_inv) * dprobs\n",
    "dsum_exps_inv = (exps * dprobs).sum(1, keepdims=True)\n",
    "dsum_exps = (-1 / sum_exps**2) * dsum_exps_inv\n",
    "dexps += torch.ones_like(exps) * dsum_exps\n",
    "dnorm_logits = exps * dexps\n",
    "dlogits = torch.ones_like(logits) * dnorm_logits\n",
    "dlogit_maxes = (-dnorm_logits).sum(1, keepdims=True) \n",
    "logits_ones = torch.zeros_like(logits)\n",
    "logits_ones[torch.arange(n), logits.max(1).indices] = 1\n",
    "dlogits += logits_ones * dlogit_maxes\n",
    "dW2 = h.T @ dlogits\n",
    "dh = dlogits @ W2.T\n",
    "db2 = dlogits.sum(0)\n",
    "dW1 = embcat.T @ dh\n",
    "dembcat = dh @ W1.T\n",
    "db1 = dh.sum(0)\n",
    "demb = dembcat.view(emb.shape)\n",
    "\n",
    "dC = torch.zeros_like(C)\n",
    "#for dembb, chs in zip(demb, Xb):\n",
    "#    for dembt, ch in zip(dembb, chs):\n",
    "#        dC[ch] += dembt\n",
    "        \n",
    "for k in range(Xb.shape[0]):\n",
    "    for j in range(Xb.shape[1]):\n",
    "        ix = Xb[k, j]\n",
    "        dC[ix] += demb[k, j]\n",
    "        "
   ]
  },
  {
   "cell_type": "code",
   "execution_count": 616,
   "id": "83d53b20",
   "metadata": {},
   "outputs": [
    {
     "data": {
      "text/plain": [
       "True"
      ]
     },
     "execution_count": 616,
     "metadata": {},
     "output_type": "execute_result"
    }
   ],
   "source": [
    "torch.all(dC == C.grad).item()"
   ]
  },
  {
   "cell_type": "code",
   "execution_count": 617,
   "id": "052c5b74",
   "metadata": {},
   "outputs": [
    {
     "data": {
      "text/plain": [
       "True"
      ]
     },
     "execution_count": 617,
     "metadata": {},
     "output_type": "execute_result"
    }
   ],
   "source": [
    "torch.allclose(dC, C.grad)"
   ]
  },
  {
   "cell_type": "code",
   "execution_count": null,
   "id": "7d6a0e70",
   "metadata": {},
   "outputs": [],
   "source": []
  }
 ],
 "metadata": {
  "kernelspec": {
   "display_name": "Python 3 (ipykernel)",
   "language": "python",
   "name": "python3"
  },
  "language_info": {
   "codemirror_mode": {
    "name": "ipython",
    "version": 3
   },
   "file_extension": ".py",
   "mimetype": "text/x-python",
   "name": "python",
   "nbconvert_exporter": "python",
   "pygments_lexer": "ipython3",
   "version": "3.11.3"
  }
 },
 "nbformat": 4,
 "nbformat_minor": 5
}
